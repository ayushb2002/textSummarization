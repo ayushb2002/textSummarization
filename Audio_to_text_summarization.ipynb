{
  "nbformat": 4,
  "nbformat_minor": 0,
  "metadata": {
    "colab": {
      "name": "Audio to text summarization.ipynb",
      "provenance": [],
      "collapsed_sections": [],
      "authorship_tag": "ABX9TyNTrRhWDSowm2hQ0AfNaZRM",
      "include_colab_link": true
    },
    "kernelspec": {
      "name": "python3",
      "display_name": "Python 3"
    },
    "language_info": {
      "name": "python"
    }
  },
  "cells": [
    {
      "cell_type": "markdown",
      "metadata": {
        "id": "view-in-github",
        "colab_type": "text"
      },
      "source": [
        "<a href=\"https://colab.research.google.com/github/ayushb2002/textSummarization/blob/main/Audio_to_text_summarization.ipynb\" target=\"_parent\"><img src=\"https://colab.research.google.com/assets/colab-badge.svg\" alt=\"Open In Colab\"/></a>"
      ]
    },
    {
      "cell_type": "markdown",
      "source": [
        "### Machine Learning algorithm for text summariation and notes making using Natural Language Toolkit"
      ],
      "metadata": {
        "id": "DX0j0xNifHaX"
      }
    },
    {
      "cell_type": "code",
      "execution_count": 1,
      "metadata": {
        "id": "Vq3JWN_PdXj4"
      },
      "outputs": [],
      "source": [
        "import pandas as pd\n",
        "import numpy as np\n",
        "import matplotlib.pyplot as plt\n",
        "import sklearn\n",
        "import seaborn as sns\n",
        "import os\n",
        "import nltk\n",
        "import nltk.corpus\n",
        "from IPython.display import Image\n",
        "from punctuator import Punctuator\n",
        "# Identification of different figures of speech such as nouns, pronouns, verbs etc.\n",
        "from nltk.tokenize import word_tokenize, sent_tokenize"
      ]
    },
    {
      "cell_type": "code",
      "source": [
        "nltk.download('punkt')"
      ],
      "metadata": {
        "colab": {
          "base_uri": "https://localhost:8080/"
        },
        "id": "cXileolnm4Nm",
        "outputId": "e97e3761-878e-455e-a7cb-a9992362cb99"
      },
      "execution_count": 2,
      "outputs": [
        {
          "output_type": "stream",
          "name": "stderr",
          "text": [
            "[nltk_data] Downloading package punkt to /root/nltk_data...\n",
            "[nltk_data]   Package punkt is already up-to-date!\n"
          ]
        },
        {
          "output_type": "execute_result",
          "data": {
            "text/plain": [
              "True"
            ]
          },
          "metadata": {},
          "execution_count": 2
        }
      ]
    },
    {
      "cell_type": "code",
      "source": [
        "nltk.download('averaged_perceptron_tagger')"
      ],
      "metadata": {
        "colab": {
          "base_uri": "https://localhost:8080/"
        },
        "id": "4xEgCBXQnY4d",
        "outputId": "19bc21f4-1b00-4cd0-9252-b574024166d9"
      },
      "execution_count": 3,
      "outputs": [
        {
          "output_type": "stream",
          "name": "stderr",
          "text": [
            "[nltk_data] Downloading package averaged_perceptron_tagger to\n",
            "[nltk_data]     /root/nltk_data...\n",
            "[nltk_data]   Package averaged_perceptron_tagger is already up-to-\n",
            "[nltk_data]       date!\n"
          ]
        },
        {
          "output_type": "execute_result",
          "data": {
            "text/plain": [
              "True"
            ]
          },
          "metadata": {},
          "execution_count": 3
        }
      ]
    },
    {
      "cell_type": "code",
      "source": [
        "nltk.download('stopwords')"
      ],
      "metadata": {
        "colab": {
          "base_uri": "https://localhost:8080/"
        },
        "id": "TBuov4z5q8hr",
        "outputId": "a046d682-bb6f-4e08-9753-d46bc7c87e35"
      },
      "execution_count": 4,
      "outputs": [
        {
          "output_type": "stream",
          "name": "stderr",
          "text": [
            "[nltk_data] Downloading package stopwords to /root/nltk_data...\n",
            "[nltk_data]   Package stopwords is already up-to-date!\n"
          ]
        },
        {
          "output_type": "execute_result",
          "data": {
            "text/plain": [
              "True"
            ]
          },
          "metadata": {},
          "execution_count": 4
        }
      ]
    },
    {
      "cell_type": "code",
      "source": [
        "nltk.download('maxent_ne_chunker')"
      ],
      "metadata": {
        "colab": {
          "base_uri": "https://localhost:8080/"
        },
        "id": "NuhV6zLysY-a",
        "outputId": "41015f5b-bfcd-489b-84d5-b26718978912"
      },
      "execution_count": 5,
      "outputs": [
        {
          "output_type": "stream",
          "name": "stderr",
          "text": [
            "[nltk_data] Downloading package maxent_ne_chunker to\n",
            "[nltk_data]     /root/nltk_data...\n",
            "[nltk_data]   Package maxent_ne_chunker is already up-to-date!\n"
          ]
        },
        {
          "output_type": "execute_result",
          "data": {
            "text/plain": [
              "True"
            ]
          },
          "metadata": {},
          "execution_count": 5
        }
      ]
    },
    {
      "cell_type": "code",
      "source": [
        "nltk.download('words')"
      ],
      "metadata": {
        "colab": {
          "base_uri": "https://localhost:8080/"
        },
        "id": "SsZSTHnfseLo",
        "outputId": "a1e1816a-ff2f-464f-f00a-751d18b8e13b"
      },
      "execution_count": 6,
      "outputs": [
        {
          "output_type": "stream",
          "name": "stderr",
          "text": [
            "[nltk_data] Downloading package words to /root/nltk_data...\n",
            "[nltk_data]   Package words is already up-to-date!\n"
          ]
        },
        {
          "output_type": "execute_result",
          "data": {
            "text/plain": [
              "True"
            ]
          },
          "metadata": {},
          "execution_count": 6
        }
      ]
    },
    {
      "cell_type": "code",
      "source": [
        "nltk.download('movie_reviews')"
      ],
      "metadata": {
        "colab": {
          "base_uri": "https://localhost:8080/"
        },
        "id": "UqIEG_jmwu3E",
        "outputId": "2e4f7b10-ce10-45fa-ff99-1265721de559"
      },
      "execution_count": 7,
      "outputs": [
        {
          "output_type": "stream",
          "name": "stderr",
          "text": [
            "[nltk_data] Downloading package movie_reviews to /root/nltk_data...\n",
            "[nltk_data]   Package movie_reviews is already up-to-date!\n"
          ]
        },
        {
          "output_type": "execute_result",
          "data": {
            "text/plain": [
              "True"
            ]
          },
          "metadata": {},
          "execution_count": 7
        }
      ]
    },
    {
      "cell_type": "code",
      "source": [
        "nltk.download('wordnet')"
      ],
      "metadata": {
        "colab": {
          "base_uri": "https://localhost:8080/"
        },
        "id": "wiltPqe2y7k-",
        "outputId": "5f4247e8-90f7-4fd5-9a22-0760c1d77c5c"
      },
      "execution_count": 8,
      "outputs": [
        {
          "output_type": "stream",
          "name": "stderr",
          "text": [
            "[nltk_data] Downloading package wordnet to /root/nltk_data...\n",
            "[nltk_data]   Package wordnet is already up-to-date!\n"
          ]
        },
        {
          "output_type": "execute_result",
          "data": {
            "text/plain": [
              "True"
            ]
          },
          "metadata": {},
          "execution_count": 8
        }
      ]
    },
    {
      "cell_type": "code",
      "source": [
        "from nltk.corpus import stopwords # for stopwords\n",
        "\n",
        "#stopwords.words(\"english\")"
      ],
      "metadata": {
        "colab": {
          "base_uri": "https://localhost:8080/",
          "height": 17
        },
        "id": "ydv8rwnpnmu5",
        "outputId": "2c3f9532-86a9-4553-8dd3-fb2c0b9e9d1d"
      },
      "execution_count": 19,
      "outputs": [
        {
          "output_type": "display_data",
          "data": {
            "text/plain": [
              "<IPython.core.display.HTML object>"
            ],
            "text/html": [
              "\n",
              "  <style>\n",
              "    pre {\n",
              "        white-space: pre-wrap;\n",
              "    }\n",
              "  </style>\n",
              "  "
            ]
          },
          "metadata": {}
        }
      ]
    },
    {
      "cell_type": "code",
      "source": [
        "para = \"Artificial intelligence (AI) refers to the simulation of human intelligence in machines that are programmed to think like humans and mimic their actions. The term may also be applied to any machine that exhibits traits associated with a human mind such as learning and problem-solving.\""
      ],
      "metadata": {
        "id": "DhOus9wiqAOe",
        "colab": {
          "base_uri": "https://localhost:8080/",
          "height": 17
        },
        "outputId": "5e8caecc-afce-4051-bcde-010be710b649"
      },
      "execution_count": 20,
      "outputs": [
        {
          "output_type": "display_data",
          "data": {
            "text/plain": [
              "<IPython.core.display.HTML object>"
            ],
            "text/html": [
              "\n",
              "  <style>\n",
              "    pre {\n",
              "        white-space: pre-wrap;\n",
              "    }\n",
              "  </style>\n",
              "  "
            ]
          },
          "metadata": {}
        }
      ]
    },
    {
      "cell_type": "code",
      "source": [
        "AI_tokens = word_tokenize(para)"
      ],
      "metadata": {
        "id": "jWwWBOzoqKlm",
        "colab": {
          "base_uri": "https://localhost:8080/",
          "height": 17
        },
        "outputId": "8ee0b245-ad22-4f4f-a16b-d5981b779243"
      },
      "execution_count": 21,
      "outputs": [
        {
          "output_type": "display_data",
          "data": {
            "text/plain": [
              "<IPython.core.display.HTML object>"
            ],
            "text/html": [
              "\n",
              "  <style>\n",
              "    pre {\n",
              "        white-space: pre-wrap;\n",
              "    }\n",
              "  </style>\n",
              "  "
            ]
          },
          "metadata": {}
        }
      ]
    },
    {
      "cell_type": "code",
      "source": [
        "import re\n",
        "\n",
        "punctuation = re.compile(r'[-.?!,:;()|0-9]')"
      ],
      "metadata": {
        "id": "1QKX2mDroF0p",
        "colab": {
          "base_uri": "https://localhost:8080/",
          "height": 17
        },
        "outputId": "748d71a3-cfa1-47b8-dd62-74af7a1d4057"
      },
      "execution_count": 22,
      "outputs": [
        {
          "output_type": "display_data",
          "data": {
            "text/plain": [
              "<IPython.core.display.HTML object>"
            ],
            "text/html": [
              "\n",
              "  <style>\n",
              "    pre {\n",
              "        white-space: pre-wrap;\n",
              "    }\n",
              "  </style>\n",
              "  "
            ]
          },
          "metadata": {}
        }
      ]
    },
    {
      "cell_type": "code",
      "source": [
        "post_punctuation = []\n",
        "for words in AI_tokens:\n",
        "  word = punctuation.sub(\"\", words)\n",
        "  if len(word)>0:\n",
        "    post_punctuation.append(word)"
      ],
      "metadata": {
        "id": "n4SVkr8KpaSk",
        "colab": {
          "base_uri": "https://localhost:8080/",
          "height": 17
        },
        "outputId": "48e01029-48bb-44d1-e0dd-3b41dca97022"
      },
      "execution_count": 23,
      "outputs": [
        {
          "output_type": "display_data",
          "data": {
            "text/plain": [
              "<IPython.core.display.HTML object>"
            ],
            "text/html": [
              "\n",
              "  <style>\n",
              "    pre {\n",
              "        white-space: pre-wrap;\n",
              "    }\n",
              "  </style>\n",
              "  "
            ]
          },
          "metadata": {}
        }
      ]
    },
    {
      "cell_type": "code",
      "source": [
        "len(post_punctuation), post_punctuation"
      ],
      "metadata": {
        "colab": {
          "base_uri": "https://localhost:8080/"
        },
        "id": "8b4rJD7FqnWA",
        "outputId": "72dedc76-0c4b-448a-b37d-a06e01249a93"
      },
      "execution_count": 19,
      "outputs": [
        {
          "output_type": "execute_result",
          "data": {
            "text/plain": [
              "(45,\n",
              " ['Artificial',\n",
              "  'intelligence',\n",
              "  'AI',\n",
              "  'refers',\n",
              "  'to',\n",
              "  'the',\n",
              "  'simulation',\n",
              "  'of',\n",
              "  'human',\n",
              "  'intelligence',\n",
              "  'in',\n",
              "  'machines',\n",
              "  'that',\n",
              "  'are',\n",
              "  'programmed',\n",
              "  'to',\n",
              "  'think',\n",
              "  'like',\n",
              "  'humans',\n",
              "  'and',\n",
              "  'mimic',\n",
              "  'their',\n",
              "  'actions',\n",
              "  'The',\n",
              "  'term',\n",
              "  'may',\n",
              "  'also',\n",
              "  'be',\n",
              "  'applied',\n",
              "  'to',\n",
              "  'any',\n",
              "  'machine',\n",
              "  'that',\n",
              "  'exhibits',\n",
              "  'traits',\n",
              "  'associated',\n",
              "  'with',\n",
              "  'a',\n",
              "  'human',\n",
              "  'mind',\n",
              "  'such',\n",
              "  'as',\n",
              "  'learning',\n",
              "  'and',\n",
              "  'problemsolving'])"
            ]
          },
          "metadata": {},
          "execution_count": 19
        }
      ]
    },
    {
      "cell_type": "code",
      "source": [
        "sent1 = \"John is eating a delicious cake\"\n",
        "sent1_tokens = word_tokenize(sent1)\n",
        "for token in sent1_tokens:\n",
        "  print(nltk.pos_tag([token]))"
      ],
      "metadata": {
        "colab": {
          "base_uri": "https://localhost:8080/"
        },
        "id": "cVsKqyhKqo-p",
        "outputId": "aaf2e283-a82d-452f-e2a6-e512317dfed1"
      },
      "execution_count": null,
      "outputs": [
        {
          "output_type": "stream",
          "name": "stdout",
          "text": [
            "[('John', 'NNP')]\n",
            "[('is', 'VBZ')]\n",
            "[('eating', 'VBG')]\n",
            "[('a', 'DT')]\n",
            "[('delicious', 'JJ')]\n",
            "[('cake', 'NN')]\n"
          ]
        }
      ]
    },
    {
      "cell_type": "code",
      "source": [
        "from nltk import ne_chunk"
      ],
      "metadata": {
        "id": "Q23BtXtmrOuT"
      },
      "execution_count": null,
      "outputs": []
    },
    {
      "cell_type": "code",
      "source": [
        "NE_sent = \"The US President stays in the white house\"\n",
        "NE_tokens = word_tokenize(NE_sent)\n",
        "NE_tags = nltk.pos_tag(NE_tokens)"
      ],
      "metadata": {
        "id": "alMyuTb4r5P1"
      },
      "execution_count": null,
      "outputs": []
    },
    {
      "cell_type": "code",
      "source": [
        "NE_ner = ne_chunk(NE_tags)\n",
        "print(NE_ner)"
      ],
      "metadata": {
        "colab": {
          "base_uri": "https://localhost:8080/"
        },
        "id": "eSHaS2rCsHma",
        "outputId": "505b5f4e-4d36-4788-a9cb-f18ddbbfccd9"
      },
      "execution_count": null,
      "outputs": [
        {
          "output_type": "stream",
          "name": "stdout",
          "text": [
            "(S\n",
            "  The/DT\n",
            "  (ORGANIZATION US/NNP)\n",
            "  President/NNP\n",
            "  stays/VBZ\n",
            "  in/IN\n",
            "  the/DT\n",
            "  white/JJ\n",
            "  house/NN)\n"
          ]
        }
      ]
    },
    {
      "cell_type": "code",
      "source": [
        "pip install ghostscript"
      ],
      "metadata": {
        "colab": {
          "base_uri": "https://localhost:8080/"
        },
        "id": "3mvpl8CxsWTh",
        "outputId": "0832df56-d313-4b05-e207-10df6743dd9d"
      },
      "execution_count": null,
      "outputs": [
        {
          "output_type": "stream",
          "name": "stdout",
          "text": [
            "Collecting ghostscript\n",
            "  Downloading ghostscript-0.7-py2.py3-none-any.whl (25 kB)\n",
            "Requirement already satisfied: setuptools>=38.6.0 in /usr/local/lib/python3.7/dist-packages (from ghostscript) (57.4.0)\n",
            "Installing collected packages: ghostscript\n",
            "Successfully installed ghostscript-0.7\n"
          ]
        }
      ]
    },
    {
      "cell_type": "code",
      "source": [
        "# Process of chunking\n",
        "\n",
        "newStr = \"The big cat ate the little mouse who was after the fresh cheese\"\n",
        "newToken = nltk.pos_tag(word_tokenize(newStr))\n",
        "newToken"
      ],
      "metadata": {
        "colab": {
          "base_uri": "https://localhost:8080/"
        },
        "id": "EIKEqpBOs9HB",
        "outputId": "6bbb812a-41ec-4bb1-ee89-5183980465cf"
      },
      "execution_count": null,
      "outputs": [
        {
          "output_type": "execute_result",
          "data": {
            "text/plain": [
              "[('The', 'DT'),\n",
              " ('big', 'JJ'),\n",
              " ('cat', 'NN'),\n",
              " ('ate', 'VBD'),\n",
              " ('the', 'DT'),\n",
              " ('little', 'JJ'),\n",
              " ('mouse', 'NN'),\n",
              " ('who', 'WP'),\n",
              " ('was', 'VBD'),\n",
              " ('after', 'IN'),\n",
              " ('the', 'DT'),\n",
              " ('fresh', 'JJ'),\n",
              " ('cheese', 'NN')]"
            ]
          },
          "metadata": {},
          "execution_count": 37
        }
      ]
    },
    {
      "cell_type": "code",
      "source": [
        "# Creating a grammer which we want in chunk phrase \n",
        "\n",
        "grammer_np = r\"NP: {<DT>?<JJ>*<NN>}\""
      ],
      "metadata": {
        "id": "T0Nv2eiJt2K7"
      },
      "execution_count": null,
      "outputs": []
    },
    {
      "cell_type": "code",
      "source": [
        "chunk_parser = nltk.RegexpParser(grammer_np)"
      ],
      "metadata": {
        "id": "e1TugWN-uSO6"
      },
      "execution_count": null,
      "outputs": []
    },
    {
      "cell_type": "code",
      "source": [
        "chunk_result = chunk_parser.parse(newToken)\n",
        "chunk_result # Giving error as colab does not support this method. Run on system to avoid this error."
      ],
      "metadata": {
        "colab": {
          "base_uri": "https://localhost:8080/",
          "height": 418
        },
        "id": "T_hwWKq-uFDa",
        "outputId": "c5ddb4e8-be0e-4476-86db-880d21bbe941"
      },
      "execution_count": null,
      "outputs": [
        {
          "output_type": "error",
          "ename": "TclError",
          "evalue": "ignored",
          "traceback": [
            "\u001b[0;31m---------------------------------------------------------------------------\u001b[0m",
            "\u001b[0;31mTclError\u001b[0m                                  Traceback (most recent call last)",
            "\u001b[0;32m/usr/local/lib/python3.7/dist-packages/IPython/core/formatters.py\u001b[0m in \u001b[0;36m__call__\u001b[0;34m(self, obj)\u001b[0m\n\u001b[1;32m    336\u001b[0m             \u001b[0mmethod\u001b[0m \u001b[0;34m=\u001b[0m \u001b[0mget_real_method\u001b[0m\u001b[0;34m(\u001b[0m\u001b[0mobj\u001b[0m\u001b[0;34m,\u001b[0m \u001b[0mself\u001b[0m\u001b[0;34m.\u001b[0m\u001b[0mprint_method\u001b[0m\u001b[0;34m)\u001b[0m\u001b[0;34m\u001b[0m\u001b[0;34m\u001b[0m\u001b[0m\n\u001b[1;32m    337\u001b[0m             \u001b[0;32mif\u001b[0m \u001b[0mmethod\u001b[0m \u001b[0;32mis\u001b[0m \u001b[0;32mnot\u001b[0m \u001b[0;32mNone\u001b[0m\u001b[0;34m:\u001b[0m\u001b[0;34m\u001b[0m\u001b[0;34m\u001b[0m\u001b[0m\n\u001b[0;32m--> 338\u001b[0;31m                 \u001b[0;32mreturn\u001b[0m \u001b[0mmethod\u001b[0m\u001b[0;34m(\u001b[0m\u001b[0;34m)\u001b[0m\u001b[0;34m\u001b[0m\u001b[0;34m\u001b[0m\u001b[0m\n\u001b[0m\u001b[1;32m    339\u001b[0m             \u001b[0;32mreturn\u001b[0m \u001b[0;32mNone\u001b[0m\u001b[0;34m\u001b[0m\u001b[0;34m\u001b[0m\u001b[0m\n\u001b[1;32m    340\u001b[0m         \u001b[0;32melse\u001b[0m\u001b[0;34m:\u001b[0m\u001b[0;34m\u001b[0m\u001b[0;34m\u001b[0m\u001b[0m\n",
            "\u001b[0;32m/usr/local/lib/python3.7/dist-packages/nltk/tree.py\u001b[0m in \u001b[0;36m_repr_png_\u001b[0;34m(self)\u001b[0m\n\u001b[1;32m    717\u001b[0m         \u001b[0;32mfrom\u001b[0m \u001b[0mnltk\u001b[0m\u001b[0;34m.\u001b[0m\u001b[0mdraw\u001b[0m\u001b[0;34m.\u001b[0m\u001b[0mutil\u001b[0m \u001b[0;32mimport\u001b[0m \u001b[0mCanvasFrame\u001b[0m\u001b[0;34m\u001b[0m\u001b[0;34m\u001b[0m\u001b[0m\n\u001b[1;32m    718\u001b[0m         \u001b[0;32mfrom\u001b[0m \u001b[0mnltk\u001b[0m\u001b[0;34m.\u001b[0m\u001b[0minternals\u001b[0m \u001b[0;32mimport\u001b[0m \u001b[0mfind_binary\u001b[0m\u001b[0;34m\u001b[0m\u001b[0;34m\u001b[0m\u001b[0m\n\u001b[0;32m--> 719\u001b[0;31m         \u001b[0m_canvas_frame\u001b[0m \u001b[0;34m=\u001b[0m \u001b[0mCanvasFrame\u001b[0m\u001b[0;34m(\u001b[0m\u001b[0;34m)\u001b[0m\u001b[0;34m\u001b[0m\u001b[0;34m\u001b[0m\u001b[0m\n\u001b[0m\u001b[1;32m    720\u001b[0m         \u001b[0mwidget\u001b[0m \u001b[0;34m=\u001b[0m \u001b[0mtree_to_treesegment\u001b[0m\u001b[0;34m(\u001b[0m\u001b[0m_canvas_frame\u001b[0m\u001b[0;34m.\u001b[0m\u001b[0mcanvas\u001b[0m\u001b[0;34m(\u001b[0m\u001b[0;34m)\u001b[0m\u001b[0;34m,\u001b[0m \u001b[0mself\u001b[0m\u001b[0;34m)\u001b[0m\u001b[0;34m\u001b[0m\u001b[0;34m\u001b[0m\u001b[0m\n\u001b[1;32m    721\u001b[0m         \u001b[0m_canvas_frame\u001b[0m\u001b[0;34m.\u001b[0m\u001b[0madd_widget\u001b[0m\u001b[0;34m(\u001b[0m\u001b[0mwidget\u001b[0m\u001b[0;34m)\u001b[0m\u001b[0;34m\u001b[0m\u001b[0;34m\u001b[0m\u001b[0m\n",
            "\u001b[0;32m/usr/local/lib/python3.7/dist-packages/nltk/draw/util.py\u001b[0m in \u001b[0;36m__init__\u001b[0;34m(self, parent, **kw)\u001b[0m\n\u001b[1;32m   1651\u001b[0m         \u001b[0;31m# If no parent was given, set up a top-level window.\u001b[0m\u001b[0;34m\u001b[0m\u001b[0;34m\u001b[0m\u001b[0;34m\u001b[0m\u001b[0m\n\u001b[1;32m   1652\u001b[0m         \u001b[0;32mif\u001b[0m \u001b[0mparent\u001b[0m \u001b[0;32mis\u001b[0m \u001b[0;32mNone\u001b[0m\u001b[0;34m:\u001b[0m\u001b[0;34m\u001b[0m\u001b[0;34m\u001b[0m\u001b[0m\n\u001b[0;32m-> 1653\u001b[0;31m             \u001b[0mself\u001b[0m\u001b[0;34m.\u001b[0m\u001b[0m_parent\u001b[0m \u001b[0;34m=\u001b[0m \u001b[0mTk\u001b[0m\u001b[0;34m(\u001b[0m\u001b[0;34m)\u001b[0m\u001b[0;34m\u001b[0m\u001b[0;34m\u001b[0m\u001b[0m\n\u001b[0m\u001b[1;32m   1654\u001b[0m             \u001b[0mself\u001b[0m\u001b[0;34m.\u001b[0m\u001b[0m_parent\u001b[0m\u001b[0;34m.\u001b[0m\u001b[0mtitle\u001b[0m\u001b[0;34m(\u001b[0m\u001b[0;34m'NLTK'\u001b[0m\u001b[0;34m)\u001b[0m\u001b[0;34m\u001b[0m\u001b[0;34m\u001b[0m\u001b[0m\n\u001b[1;32m   1655\u001b[0m             \u001b[0mself\u001b[0m\u001b[0;34m.\u001b[0m\u001b[0m_parent\u001b[0m\u001b[0;34m.\u001b[0m\u001b[0mbind\u001b[0m\u001b[0;34m(\u001b[0m\u001b[0;34m'<Control-p>'\u001b[0m\u001b[0;34m,\u001b[0m \u001b[0;32mlambda\u001b[0m \u001b[0me\u001b[0m\u001b[0;34m:\u001b[0m \u001b[0mself\u001b[0m\u001b[0;34m.\u001b[0m\u001b[0mprint_to_file\u001b[0m\u001b[0;34m(\u001b[0m\u001b[0;34m)\u001b[0m\u001b[0;34m)\u001b[0m\u001b[0;34m\u001b[0m\u001b[0;34m\u001b[0m\u001b[0m\n",
            "\u001b[0;32m/usr/lib/python3.7/tkinter/__init__.py\u001b[0m in \u001b[0;36m__init__\u001b[0;34m(self, screenName, baseName, className, useTk, sync, use)\u001b[0m\n\u001b[1;32m   2021\u001b[0m                 \u001b[0mbaseName\u001b[0m \u001b[0;34m=\u001b[0m \u001b[0mbaseName\u001b[0m \u001b[0;34m+\u001b[0m \u001b[0mext\u001b[0m\u001b[0;34m\u001b[0m\u001b[0;34m\u001b[0m\u001b[0m\n\u001b[1;32m   2022\u001b[0m         \u001b[0minteractive\u001b[0m \u001b[0;34m=\u001b[0m \u001b[0;36m0\u001b[0m\u001b[0;34m\u001b[0m\u001b[0;34m\u001b[0m\u001b[0m\n\u001b[0;32m-> 2023\u001b[0;31m         \u001b[0mself\u001b[0m\u001b[0;34m.\u001b[0m\u001b[0mtk\u001b[0m \u001b[0;34m=\u001b[0m \u001b[0m_tkinter\u001b[0m\u001b[0;34m.\u001b[0m\u001b[0mcreate\u001b[0m\u001b[0;34m(\u001b[0m\u001b[0mscreenName\u001b[0m\u001b[0;34m,\u001b[0m \u001b[0mbaseName\u001b[0m\u001b[0;34m,\u001b[0m \u001b[0mclassName\u001b[0m\u001b[0;34m,\u001b[0m \u001b[0minteractive\u001b[0m\u001b[0;34m,\u001b[0m \u001b[0mwantobjects\u001b[0m\u001b[0;34m,\u001b[0m \u001b[0museTk\u001b[0m\u001b[0;34m,\u001b[0m \u001b[0msync\u001b[0m\u001b[0;34m,\u001b[0m \u001b[0muse\u001b[0m\u001b[0;34m)\u001b[0m\u001b[0;34m\u001b[0m\u001b[0;34m\u001b[0m\u001b[0m\n\u001b[0m\u001b[1;32m   2024\u001b[0m         \u001b[0;32mif\u001b[0m \u001b[0museTk\u001b[0m\u001b[0;34m:\u001b[0m\u001b[0;34m\u001b[0m\u001b[0;34m\u001b[0m\u001b[0m\n\u001b[1;32m   2025\u001b[0m             \u001b[0mself\u001b[0m\u001b[0;34m.\u001b[0m\u001b[0m_loadtk\u001b[0m\u001b[0;34m(\u001b[0m\u001b[0;34m)\u001b[0m\u001b[0;34m\u001b[0m\u001b[0;34m\u001b[0m\u001b[0m\n",
            "\u001b[0;31mTclError\u001b[0m: no display name and no $DISPLAY environment variable"
          ]
        },
        {
          "output_type": "execute_result",
          "data": {
            "text/plain": [
              "Tree('S', [Tree('NP', [('The', 'DT'), ('big', 'JJ'), ('cat', 'NN')]), ('ate', 'VBD'), Tree('NP', [('the', 'DT'), ('little', 'JJ'), ('mouse', 'NN')]), ('who', 'WP'), ('was', 'VBD'), ('after', 'IN'), Tree('NP', [('the', 'DT'), ('fresh', 'JJ'), ('cheese', 'NN')])])"
            ]
          },
          "metadata": {},
          "execution_count": 46
        }
      ]
    },
    {
      "cell_type": "code",
      "source": [
        "from sklearn.feature_extraction.text import CountVectorizer "
      ],
      "metadata": {
        "id": "FHaegwO0uW3G"
      },
      "execution_count": null,
      "outputs": []
    },
    {
      "cell_type": "code",
      "source": [
        "print(os.listdir(nltk.data.find(\"corpora\")))"
      ],
      "metadata": {
        "colab": {
          "base_uri": "https://localhost:8080/"
        },
        "id": "Aw30rqgrwBym",
        "outputId": "28d02a94-ba57-47a0-cf8b-762692005ac9"
      },
      "execution_count": null,
      "outputs": [
        {
          "output_type": "stream",
          "name": "stdout",
          "text": [
            "['movie_reviews.zip', 'movie_reviews', 'stopwords.zip', 'stopwords', 'words', 'words.zip']\n"
          ]
        }
      ]
    },
    {
      "cell_type": "code",
      "source": [
        "# To generate synonyms etc.\n",
        "\n",
        "from nltk.corpus import wordnet\n",
        "syns = wordnet.synsets(\"important\") \n",
        "  \n",
        "print(syns[0].name()) \n",
        "  \n",
        "print(syns[0].lemmas()[0].name()) \n",
        "  \n",
        "print(syns[0].definition()) \n",
        "  \n",
        "print(syns[0].examples())"
      ],
      "metadata": {
        "colab": {
          "base_uri": "https://localhost:8080/"
        },
        "id": "nbO2_OXlxBZ-",
        "outputId": "184464a1-e611-4043-e986-fc7a1eef408c"
      },
      "execution_count": null,
      "outputs": [
        {
          "output_type": "stream",
          "name": "stdout",
          "text": [
            "important.a.01\n",
            "important\n",
            "of great significance or value\n",
            "['important people', 'the important questions of the day']\n"
          ]
        }
      ]
    },
    {
      "cell_type": "code",
      "source": [
        "from gensim.models import Word2Vec\n",
        "import nltk\n",
        "# define training data\n",
        "content=\"\"\"Cake is a form of sweet food made from flour, sugar, and other ingredients, that is usually baked.\n",
        "In their oldest forms, cakes were modifications of bread, but cakes now cover a wide range of preparations that can be simple or elaborate, and that share features with other desserts such as pastries, meringues, custards, and pies.\"\"\"\n",
        "sentences=nltk.sent_tokenize(content)\n",
        "words=[]\n",
        "\n",
        "for i in sentences:\n",
        "    words.append(nltk.word_tokenize(i))\n",
        "\n",
        "# train model\n",
        "model = Word2Vec(words, min_count=1)\n",
        "\n",
        "# summarize the loaded model\n",
        "print(model)\n",
        "\n",
        "# summarize vocabulary\n",
        "word_vec_words = list(model.wv.vocab)\n",
        "print(word_vec_words)\n",
        "\n",
        "# access vector for one word\n",
        "print(model['sugar'])\n",
        "\n",
        "# save model\n",
        "model.save('model.bin')\n",
        "\n",
        "# load model\n",
        "new_model = Word2Vec.load('model.bin')\n",
        "print(new_model)"
      ],
      "metadata": {
        "colab": {
          "base_uri": "https://localhost:8080/"
        },
        "id": "N4oCFOJFy32C",
        "outputId": "a10e4674-1081-4741-f0bc-f3a755b9d520"
      },
      "execution_count": null,
      "outputs": [
        {
          "output_type": "stream",
          "name": "stdout",
          "text": [
            "Word2Vec(vocab=48, size=100, alpha=0.025)\n",
            "['Cake', 'is', 'a', 'form', 'of', 'sweet', 'food', 'made', 'from', 'flour', ',', 'sugar', 'and', 'other', 'ingredients', 'that', 'usually', 'baked', '.', 'In', 'their', 'oldest', 'forms', 'cakes', 'were', 'modifications', 'bread', 'but', 'now', 'cover', 'wide', 'range', 'preparations', 'can', 'be', 'simple', 'or', 'elaborate', 'share', 'features', 'with', 'desserts', 'such', 'as', 'pastries', 'meringues', 'custards', 'pies']\n",
            "[-1.0738604e-03 -3.5498452e-03 -3.3292570e-03  4.7651720e-03\n",
            "  2.1713910e-04 -2.5128417e-03 -1.4641852e-03  2.1422445e-03\n",
            " -3.1401056e-03 -3.8788847e-03  1.3065654e-04 -3.3815168e-03\n",
            "  2.0487199e-03 -4.9280291e-03 -4.0164446e-03 -2.4478142e-03\n",
            " -2.9044661e-03 -2.3760861e-03 -3.0464644e-03  3.9215842e-03\n",
            " -4.2540435e-04  3.7881292e-03 -4.0674102e-03  4.1024084e-04\n",
            " -3.5644886e-03 -4.1863038e-03  3.8727461e-03  2.8823775e-03\n",
            "  4.4398019e-03 -3.6213074e-03  2.0774538e-03 -1.4005350e-03\n",
            "  3.8649875e-03  1.8776137e-03  4.6833856e-03  1.4631861e-04\n",
            "  4.4669211e-04 -3.7273457e-03 -1.3573568e-03 -5.8109575e-04\n",
            "  2.8363846e-03  1.8257885e-04 -2.9358759e-03  1.9164056e-05\n",
            " -3.4764742e-03 -1.9962180e-03 -8.9840568e-04  2.9875448e-03\n",
            "  5.9254467e-04  4.7319257e-03  1.3392011e-03  1.0233321e-03\n",
            " -4.3650263e-04  4.7229086e-03 -4.1789347e-03 -3.4805718e-03\n",
            " -2.8987699e-03  1.9229569e-03  4.7478583e-03 -1.8815865e-03\n",
            " -3.3273347e-05 -3.2134615e-03 -1.4566155e-03  4.9144472e-03\n",
            " -8.6372835e-04  2.4164554e-03 -5.2593125e-04  2.3595914e-03\n",
            "  2.1718133e-03 -1.6678020e-03  7.3462212e-04 -7.4729859e-04\n",
            " -3.8771071e-03  1.1272669e-03 -2.6914792e-03  5.1522953e-04\n",
            " -4.3058125e-03 -3.1473336e-03 -4.8869541e-03  3.8554654e-03\n",
            "  2.6356771e-03  3.7084839e-03  2.2752613e-03  2.4561735e-03\n",
            "  4.4918037e-03 -2.7590632e-03 -2.1647902e-03 -4.6999585e-03\n",
            "  3.0373712e-03 -3.4747936e-03  2.1573119e-03  1.6551111e-04\n",
            "  3.1210128e-03 -2.5814828e-03 -8.2925882e-04  1.6824902e-03\n",
            " -7.4863853e-04 -4.4723195e-03 -1.2846669e-03  3.2959061e-03]\n",
            "Word2Vec(vocab=48, size=100, alpha=0.025)\n"
          ]
        },
        {
          "output_type": "stream",
          "name": "stderr",
          "text": [
            "/usr/local/lib/python3.7/dist-packages/ipykernel_launcher.py:23: DeprecationWarning: Call to deprecated `__getitem__` (Method will be removed in 4.0.0, use self.wv.__getitem__() instead).\n"
          ]
        }
      ]
    },
    {
      "cell_type": "code",
      "source": [
        "# IMDB dataset classification using tf keras utils and sequential model\n",
        "\n",
        "import numpy as np\n",
        "from tensorflow.keras.utils import to_categorical\n",
        "from keras import models\n",
        "from keras import layers\n",
        "from keras.datasets import imdb\n",
        " \n",
        "(train_data, train_target), (test_data, test_target) = imdb.load_data(num_words=10000)\n",
        "dt = np.concatenate((train_data, test_data), axis=0)\n",
        "tar = np.concatenate((train_target, test_target), axis=0)\n",
        " \n",
        "def convert(sequences, dimension = 10000):\n",
        " results = np.zeros((len(sequences), dimension))\n",
        " for i, sequence in enumerate(sequences):\n",
        "  results[i, sequence] = 1\n",
        " return results\n",
        " \n",
        "dt = convert(dt)\n",
        "tar = np.array(tar).astype(\"float32\")\n",
        "test_x = dt[:9000]\n",
        "test_y = tar[:9000]\n",
        "train_x = dt[9000:]\n",
        "train_y = tar[9000:]\n",
        "model = models.Sequential()\n",
        "# Input - Layer\n",
        "model.add(layers.Dense(50, activation = \"relu\", input_shape=(10000, )))\n",
        "# Hidden - Layers\n",
        "model.add(layers.Dropout(0.4, noise_shape=None, seed=None))\n",
        "model.add(layers.Dense(50, activation = \"relu\"))\n",
        "model.add(layers.Dropout(0.3, noise_shape=None, seed=None))\n",
        "model.add(layers.Dense(50, activation = \"relu\"))\n",
        "# Output- Layer\n",
        "model.add(layers.Dense(1, activation = \"sigmoid\"))\n",
        "model.summary()\n",
        "# compiling the model\n",
        " \n",
        "model.compile(\n",
        " optimizer = \"adam\",\n",
        " loss = \"binary_crossentropy\",\n",
        " metrics = [\"accuracy\"]\n",
        ")\n",
        "results = model.fit(\n",
        " train_x, train_y,\n",
        " epochs= 2,\n",
        " batch_size = 500,\n",
        " validation_data = (test_x, test_y)\n",
        ")\n",
        "print(\"Test-Accuracy:\", np.mean(results.history[\"val_accuracy\"]))"
      ],
      "metadata": {
        "colab": {
          "base_uri": "https://localhost:8080/"
        },
        "id": "ApPJdi2jz7q7",
        "outputId": "7307904d-3dd2-4272-99c0-6169345032a0"
      },
      "execution_count": null,
      "outputs": [
        {
          "output_type": "stream",
          "name": "stdout",
          "text": [
            "Model: \"sequential_2\"\n",
            "_________________________________________________________________\n",
            " Layer (type)                Output Shape              Param #   \n",
            "=================================================================\n",
            " dense_8 (Dense)             (None, 50)                500050    \n",
            "                                                                 \n",
            " dropout_4 (Dropout)         (None, 50)                0         \n",
            "                                                                 \n",
            " dense_9 (Dense)             (None, 50)                2550      \n",
            "                                                                 \n",
            " dropout_5 (Dropout)         (None, 50)                0         \n",
            "                                                                 \n",
            " dense_10 (Dense)            (None, 50)                2550      \n",
            "                                                                 \n",
            " dense_11 (Dense)            (None, 1)                 51        \n",
            "                                                                 \n",
            "=================================================================\n",
            "Total params: 505,201\n",
            "Trainable params: 505,201\n",
            "Non-trainable params: 0\n",
            "_________________________________________________________________\n",
            "Epoch 1/2\n",
            "82/82 [==============================] - 5s 57ms/step - loss: 0.4242 - accuracy: 0.8038 - val_loss: 0.2628 - val_accuracy: 0.8943\n",
            "Epoch 2/2\n",
            "82/82 [==============================] - 5s 58ms/step - loss: 0.2309 - accuracy: 0.9140 - val_loss: 0.2596 - val_accuracy: 0.8953\n",
            "Test-Accuracy: 0.8948333561420441\n"
          ]
        }
      ]
    },
    {
      "cell_type": "code",
      "source": [
        "from IPython.display import HTML, display\n",
        "\n",
        "def set_css():\n",
        "  display(HTML('''\n",
        "  <style>\n",
        "    pre {\n",
        "        white-space: pre-wrap;\n",
        "    }\n",
        "  </style>\n",
        "  '''))\n",
        "get_ipython().events.register('pre_run_cell', set_css)"
      ],
      "metadata": {
        "colab": {
          "base_uri": "https://localhost:8080/",
          "height": 17
        },
        "id": "wHybcMHil52E",
        "outputId": "2d1f1c9e-ba46-46a6-d2cc-bd2f18620d87"
      },
      "execution_count": 24,
      "outputs": [
        {
          "output_type": "display_data",
          "data": {
            "text/plain": [
              "<IPython.core.display.HTML object>"
            ],
            "text/html": [
              "\n",
              "  <style>\n",
              "    pre {\n",
              "        white-space: pre-wrap;\n",
              "    }\n",
              "  </style>\n",
              "  "
            ]
          },
          "metadata": {}
        }
      ]
    },
    {
      "cell_type": "code",
      "source": [
        "para = \"The endless source of knowledge, information, entertainment, and training are books. Before the age of the internet, book's were the most dominating source of knowledge. But of course, with technology, the forms of books have changed, and books have become more accessible to everyone. Regardless of all other supplements of books, the contribution and role of books in our life are indispensable. In the education system, books are mostly followed to date for knowledge providing and gain. Books on several subjects enhance several aspects of education and learning. Writers can express their thoughts, views, and observations about any topic through their writings, which are published in books.\"\n",
        "para"
      ],
      "metadata": {
        "colab": {
          "base_uri": "https://localhost:8080/",
          "height": 88
        },
        "id": "rB8LcCGUldO8",
        "outputId": "887231d8-a776-40d2-f04f-a027d69fcd4e"
      },
      "execution_count": 61,
      "outputs": [
        {
          "output_type": "display_data",
          "data": {
            "text/plain": [
              "<IPython.core.display.HTML object>"
            ],
            "text/html": [
              "\n",
              "  <style>\n",
              "    pre {\n",
              "        white-space: pre-wrap;\n",
              "    }\n",
              "  </style>\n",
              "  "
            ]
          },
          "metadata": {}
        },
        {
          "output_type": "display_data",
          "data": {
            "text/plain": [
              "<IPython.core.display.HTML object>"
            ],
            "text/html": [
              "\n",
              "  <style>\n",
              "    pre {\n",
              "        white-space: pre-wrap;\n",
              "    }\n",
              "  </style>\n",
              "  "
            ]
          },
          "metadata": {}
        },
        {
          "output_type": "execute_result",
          "data": {
            "text/plain": [
              "\"The endless source of knowledge, information, entertainment, and training are books. Before the age of the internet, book's were the most dominating source of knowledge. But of course, with technology, the forms of books have changed, and books have become more accessible to everyone. Regardless of all other supplements of books, the contribution and role of books in our life are indispensable. In the education system, books are mostly followed to date for knowledge providing and gain. Books on several subjects enhance several aspects of education and learning. Writers can express their thoughts, views, and observations about any topic through their writings, which are published in books.\""
            ],
            "application/vnd.google.colaboratory.intrinsic+json": {
              "type": "string"
            }
          },
          "metadata": {},
          "execution_count": 61
        }
      ]
    },
    {
      "cell_type": "code",
      "source": [
        "sent_list = nltk.sent_tokenize(para)\n",
        "sent_list"
      ],
      "metadata": {
        "id": "5CwF7cqp0QiB",
        "colab": {
          "base_uri": "https://localhost:8080/",
          "height": 138
        },
        "outputId": "9521c4bc-1e20-493c-ee83-4a0044729c9f"
      },
      "execution_count": 62,
      "outputs": [
        {
          "output_type": "display_data",
          "data": {
            "text/plain": [
              "<IPython.core.display.HTML object>"
            ],
            "text/html": [
              "\n",
              "  <style>\n",
              "    pre {\n",
              "        white-space: pre-wrap;\n",
              "    }\n",
              "  </style>\n",
              "  "
            ]
          },
          "metadata": {}
        },
        {
          "output_type": "display_data",
          "data": {
            "text/plain": [
              "<IPython.core.display.HTML object>"
            ],
            "text/html": [
              "\n",
              "  <style>\n",
              "    pre {\n",
              "        white-space: pre-wrap;\n",
              "    }\n",
              "  </style>\n",
              "  "
            ]
          },
          "metadata": {}
        },
        {
          "output_type": "execute_result",
          "data": {
            "text/plain": [
              "['The endless source of knowledge, information, entertainment, and training are books.',\n",
              " \"Before the age of the internet, book's were the most dominating source of knowledge.\",\n",
              " 'But of course, with technology, the forms of books have changed, and books have become more accessible to everyone.',\n",
              " 'Regardless of all other supplements of books, the contribution and role of books in our life are indispensable.',\n",
              " 'In the education system, books are mostly followed to date for knowledge providing and gain.',\n",
              " 'Books on several subjects enhance several aspects of education and learning.',\n",
              " 'Writers can express their thoughts, views, and observations about any topic through their writings, which are published in books.']"
            ]
          },
          "metadata": {},
          "execution_count": 62
        }
      ]
    },
    {
      "cell_type": "code",
      "source": [
        "post_punctuation = []\n",
        "for sentences in sent_list:\n",
        "  sent = punctuation.sub(\" \", sentences)\n",
        "  if len(sent)>0:\n",
        "    post_punctuation.append(sent)\n",
        "\n",
        "post_punctuation"
      ],
      "metadata": {
        "colab": {
          "base_uri": "https://localhost:8080/",
          "height": 138
        },
        "id": "smz6V9WRjfqh",
        "outputId": "f17de969-6b77-4e24-d1ba-5695ea872d5b"
      },
      "execution_count": 63,
      "outputs": [
        {
          "output_type": "display_data",
          "data": {
            "text/plain": [
              "<IPython.core.display.HTML object>"
            ],
            "text/html": [
              "\n",
              "  <style>\n",
              "    pre {\n",
              "        white-space: pre-wrap;\n",
              "    }\n",
              "  </style>\n",
              "  "
            ]
          },
          "metadata": {}
        },
        {
          "output_type": "display_data",
          "data": {
            "text/plain": [
              "<IPython.core.display.HTML object>"
            ],
            "text/html": [
              "\n",
              "  <style>\n",
              "    pre {\n",
              "        white-space: pre-wrap;\n",
              "    }\n",
              "  </style>\n",
              "  "
            ]
          },
          "metadata": {}
        },
        {
          "output_type": "execute_result",
          "data": {
            "text/plain": [
              "['The endless source of knowledge  information  entertainment  and training are books ',\n",
              " \"Before the age of the internet  book's were the most dominating source of knowledge \",\n",
              " 'But of course  with technology  the forms of books have changed  and books have become more accessible to everyone ',\n",
              " 'Regardless of all other supplements of books  the contribution and role of books in our life are indispensable ',\n",
              " 'In the education system  books are mostly followed to date for knowledge providing and gain ',\n",
              " 'Books on several subjects enhance several aspects of education and learning ',\n",
              " 'Writers can express their thoughts  views  and observations about any topic through their writings  which are published in books ']"
            ]
          },
          "metadata": {},
          "execution_count": 63
        }
      ]
    },
    {
      "cell_type": "code",
      "source": [
        "formatted_str = ' '.join([str(pp) for pp in post_punctuation])\n",
        "formatted_str"
      ],
      "metadata": {
        "colab": {
          "base_uri": "https://localhost:8080/",
          "height": 88
        },
        "id": "q_7BZqEYjutA",
        "outputId": "34f93198-198d-43a5-ccf1-965459c11570"
      },
      "execution_count": 64,
      "outputs": [
        {
          "output_type": "display_data",
          "data": {
            "text/plain": [
              "<IPython.core.display.HTML object>"
            ],
            "text/html": [
              "\n",
              "  <style>\n",
              "    pre {\n",
              "        white-space: pre-wrap;\n",
              "    }\n",
              "  </style>\n",
              "  "
            ]
          },
          "metadata": {}
        },
        {
          "output_type": "display_data",
          "data": {
            "text/plain": [
              "<IPython.core.display.HTML object>"
            ],
            "text/html": [
              "\n",
              "  <style>\n",
              "    pre {\n",
              "        white-space: pre-wrap;\n",
              "    }\n",
              "  </style>\n",
              "  "
            ]
          },
          "metadata": {}
        },
        {
          "output_type": "execute_result",
          "data": {
            "text/plain": [
              "\"The endless source of knowledge  information  entertainment  and training are books  Before the age of the internet  book's were the most dominating source of knowledge  But of course  with technology  the forms of books have changed  and books have become more accessible to everyone  Regardless of all other supplements of books  the contribution and role of books in our life are indispensable  In the education system  books are mostly followed to date for knowledge providing and gain  Books on several subjects enhance several aspects of education and learning  Writers can express their thoughts  views  and observations about any topic through their writings  which are published in books \""
            ],
            "application/vnd.google.colaboratory.intrinsic+json": {
              "type": "string"
            }
          },
          "metadata": {},
          "execution_count": 64
        }
      ]
    },
    {
      "cell_type": "code",
      "source": [
        "stopwords = nltk.corpus.stopwords.words('english')\n",
        "\n",
        "notes = []\n",
        "\n",
        "for sent in post_punctuation:\n",
        "  newSent = \"\"\n",
        "  if sent not in stopwords:\n",
        "      newSent+=sent+\" \"\n",
        "  notes.append(newSent)\n",
        "\n",
        "notes"
      ],
      "metadata": {
        "colab": {
          "base_uri": "https://localhost:8080/",
          "height": 138
        },
        "id": "V6jpd-gUx2qC",
        "outputId": "586b73b0-aaa0-4f80-db79-fea7f02c0fe5"
      },
      "execution_count": 65,
      "outputs": [
        {
          "output_type": "display_data",
          "data": {
            "text/plain": [
              "<IPython.core.display.HTML object>"
            ],
            "text/html": [
              "\n",
              "  <style>\n",
              "    pre {\n",
              "        white-space: pre-wrap;\n",
              "    }\n",
              "  </style>\n",
              "  "
            ]
          },
          "metadata": {}
        },
        {
          "output_type": "display_data",
          "data": {
            "text/plain": [
              "<IPython.core.display.HTML object>"
            ],
            "text/html": [
              "\n",
              "  <style>\n",
              "    pre {\n",
              "        white-space: pre-wrap;\n",
              "    }\n",
              "  </style>\n",
              "  "
            ]
          },
          "metadata": {}
        },
        {
          "output_type": "execute_result",
          "data": {
            "text/plain": [
              "['The endless source of knowledge  information  entertainment  and training are books  ',\n",
              " \"Before the age of the internet  book's were the most dominating source of knowledge  \",\n",
              " 'But of course  with technology  the forms of books have changed  and books have become more accessible to everyone  ',\n",
              " 'Regardless of all other supplements of books  the contribution and role of books in our life are indispensable  ',\n",
              " 'In the education system  books are mostly followed to date for knowledge providing and gain  ',\n",
              " 'Books on several subjects enhance several aspects of education and learning  ',\n",
              " 'Writers can express their thoughts  views  and observations about any topic through their writings  which are published in books  ']"
            ]
          },
          "metadata": {},
          "execution_count": 65
        }
      ]
    },
    {
      "cell_type": "code",
      "source": [
        "stopwords = nltk.corpus.stopwords.words('english')\n",
        "\n",
        "word_frequencies = {}\n",
        "for word in nltk.word_tokenize(formatted_str):\n",
        "    if word not in stopwords:\n",
        "        if word not in word_frequencies.keys():\n",
        "            word_frequencies[word] = 1\n",
        "        else:\n",
        "            word_frequencies[word] += 1"
      ],
      "metadata": {
        "colab": {
          "base_uri": "https://localhost:8080/",
          "height": 17
        },
        "id": "0MrElrqPjwwk",
        "outputId": "a428108b-1dc1-4326-d192-28c745ea991e"
      },
      "execution_count": 66,
      "outputs": [
        {
          "output_type": "display_data",
          "data": {
            "text/plain": [
              "<IPython.core.display.HTML object>"
            ],
            "text/html": [
              "\n",
              "  <style>\n",
              "    pre {\n",
              "        white-space: pre-wrap;\n",
              "    }\n",
              "  </style>\n",
              "  "
            ]
          },
          "metadata": {}
        },
        {
          "output_type": "display_data",
          "data": {
            "text/plain": [
              "<IPython.core.display.HTML object>"
            ],
            "text/html": [
              "\n",
              "  <style>\n",
              "    pre {\n",
              "        white-space: pre-wrap;\n",
              "    }\n",
              "  </style>\n",
              "  "
            ]
          },
          "metadata": {}
        }
      ]
    },
    {
      "cell_type": "code",
      "source": [
        "word_frequencies"
      ],
      "metadata": {
        "colab": {
          "base_uri": "https://localhost:8080/",
          "height": 885
        },
        "id": "epUj0F_VkDAw",
        "outputId": "14efcccc-494a-40fe-e55a-db262dc7faa3"
      },
      "execution_count": 67,
      "outputs": [
        {
          "output_type": "display_data",
          "data": {
            "text/plain": [
              "<IPython.core.display.HTML object>"
            ],
            "text/html": [
              "\n",
              "  <style>\n",
              "    pre {\n",
              "        white-space: pre-wrap;\n",
              "    }\n",
              "  </style>\n",
              "  "
            ]
          },
          "metadata": {}
        },
        {
          "output_type": "display_data",
          "data": {
            "text/plain": [
              "<IPython.core.display.HTML object>"
            ],
            "text/html": [
              "\n",
              "  <style>\n",
              "    pre {\n",
              "        white-space: pre-wrap;\n",
              "    }\n",
              "  </style>\n",
              "  "
            ]
          },
          "metadata": {}
        },
        {
          "output_type": "execute_result",
          "data": {
            "text/plain": [
              "{\"'s\": 1,\n",
              " 'Before': 1,\n",
              " 'Books': 1,\n",
              " 'But': 1,\n",
              " 'In': 1,\n",
              " 'Regardless': 1,\n",
              " 'The': 1,\n",
              " 'Writers': 1,\n",
              " 'accessible': 1,\n",
              " 'age': 1,\n",
              " 'aspects': 1,\n",
              " 'become': 1,\n",
              " 'book': 1,\n",
              " 'books': 7,\n",
              " 'changed': 1,\n",
              " 'contribution': 1,\n",
              " 'course': 1,\n",
              " 'date': 1,\n",
              " 'dominating': 1,\n",
              " 'education': 2,\n",
              " 'endless': 1,\n",
              " 'enhance': 1,\n",
              " 'entertainment': 1,\n",
              " 'everyone': 1,\n",
              " 'express': 1,\n",
              " 'followed': 1,\n",
              " 'forms': 1,\n",
              " 'gain': 1,\n",
              " 'indispensable': 1,\n",
              " 'information': 1,\n",
              " 'internet': 1,\n",
              " 'knowledge': 3,\n",
              " 'learning': 1,\n",
              " 'life': 1,\n",
              " 'mostly': 1,\n",
              " 'observations': 1,\n",
              " 'providing': 1,\n",
              " 'published': 1,\n",
              " 'role': 1,\n",
              " 'several': 2,\n",
              " 'source': 2,\n",
              " 'subjects': 1,\n",
              " 'supplements': 1,\n",
              " 'system': 1,\n",
              " 'technology': 1,\n",
              " 'thoughts': 1,\n",
              " 'topic': 1,\n",
              " 'training': 1,\n",
              " 'views': 1,\n",
              " 'writings': 1}"
            ]
          },
          "metadata": {},
          "execution_count": 67
        }
      ]
    },
    {
      "cell_type": "code",
      "source": [
        "maximum_frequncy = max(word_frequencies.values())\n",
        "\n",
        "for word in word_frequencies.keys():\n",
        "    word_frequencies[word] = (word_frequencies[word]/maximum_frequncy)"
      ],
      "metadata": {
        "colab": {
          "base_uri": "https://localhost:8080/",
          "height": 17
        },
        "id": "gMIWS78xkIjI",
        "outputId": "4831e9fb-eebc-4eb3-f2ba-a2a17f3bff6a"
      },
      "execution_count": 68,
      "outputs": [
        {
          "output_type": "display_data",
          "data": {
            "text/plain": [
              "<IPython.core.display.HTML object>"
            ],
            "text/html": [
              "\n",
              "  <style>\n",
              "    pre {\n",
              "        white-space: pre-wrap;\n",
              "    }\n",
              "  </style>\n",
              "  "
            ]
          },
          "metadata": {}
        },
        {
          "output_type": "display_data",
          "data": {
            "text/plain": [
              "<IPython.core.display.HTML object>"
            ],
            "text/html": [
              "\n",
              "  <style>\n",
              "    pre {\n",
              "        white-space: pre-wrap;\n",
              "    }\n",
              "  </style>\n",
              "  "
            ]
          },
          "metadata": {}
        }
      ]
    },
    {
      "cell_type": "code",
      "source": [
        "sentence_scores = {}\n",
        "for sent in sent_list:\n",
        "    for word in nltk.word_tokenize(sent.lower()):\n",
        "        if word in word_frequencies.keys():\n",
        "            if len(sent.split(' ')) < 30:\n",
        "                if sent not in sentence_scores.keys():\n",
        "                    sentence_scores[sent] = word_frequencies[word]\n",
        "                else:\n",
        "                    sentence_scores[sent] += word_frequencies[word]"
      ],
      "metadata": {
        "colab": {
          "base_uri": "https://localhost:8080/",
          "height": 17
        },
        "id": "2a8mBFWrkt4L",
        "outputId": "f632c296-fc28-4534-a9c6-aa722b1c098a"
      },
      "execution_count": 69,
      "outputs": [
        {
          "output_type": "display_data",
          "data": {
            "text/plain": [
              "<IPython.core.display.HTML object>"
            ],
            "text/html": [
              "\n",
              "  <style>\n",
              "    pre {\n",
              "        white-space: pre-wrap;\n",
              "    }\n",
              "  </style>\n",
              "  "
            ]
          },
          "metadata": {}
        },
        {
          "output_type": "display_data",
          "data": {
            "text/plain": [
              "<IPython.core.display.HTML object>"
            ],
            "text/html": [
              "\n",
              "  <style>\n",
              "    pre {\n",
              "        white-space: pre-wrap;\n",
              "    }\n",
              "  </style>\n",
              "  "
            ]
          },
          "metadata": {}
        }
      ]
    },
    {
      "cell_type": "code",
      "source": [
        "sentence_scores"
      ],
      "metadata": {
        "colab": {
          "base_uri": "https://localhost:8080/",
          "height": 138
        },
        "id": "HOh48Genk0P-",
        "outputId": "bca11201-5021-4185-f213-8557d2b0512e"
      },
      "execution_count": 70,
      "outputs": [
        {
          "output_type": "display_data",
          "data": {
            "text/plain": [
              "<IPython.core.display.HTML object>"
            ],
            "text/html": [
              "\n",
              "  <style>\n",
              "    pre {\n",
              "        white-space: pre-wrap;\n",
              "    }\n",
              "  </style>\n",
              "  "
            ]
          },
          "metadata": {}
        },
        {
          "output_type": "display_data",
          "data": {
            "text/plain": [
              "<IPython.core.display.HTML object>"
            ],
            "text/html": [
              "\n",
              "  <style>\n",
              "    pre {\n",
              "        white-space: pre-wrap;\n",
              "    }\n",
              "  </style>\n",
              "  "
            ]
          },
          "metadata": {}
        },
        {
          "output_type": "execute_result",
          "data": {
            "text/plain": [
              "{\"Before the age of the internet, book's were the most dominating source of knowledge.\": 1.4285714285714284,\n",
              " 'Books on several subjects enhance several aspects of education and learning.': 2.428571428571428,\n",
              " 'But of course, with technology, the forms of books have changed, and books have become more accessible to everyone.': 2.9999999999999996,\n",
              " 'In the education system, books are mostly followed to date for knowledge providing and gain.': 2.571428571428571,\n",
              " 'Regardless of all other supplements of books, the contribution and role of books in our life are indispensable.': 2.714285714285714,\n",
              " 'The endless source of knowledge, information, entertainment, and training are books.': 2.2857142857142856,\n",
              " 'Writers can express their thoughts, views, and observations about any topic through their writings, which are published in books.': 1.9999999999999998}"
            ]
          },
          "metadata": {},
          "execution_count": 70
        }
      ]
    },
    {
      "cell_type": "code",
      "source": [
        "import heapq\n",
        "summary_sentences = heapq.nlargest(7, sentence_scores, key=sentence_scores.get)\n",
        "\n",
        "summary = ' '.join(summary_sentences)\n",
        "print(summary)"
      ],
      "metadata": {
        "colab": {
          "base_uri": "https://localhost:8080/",
          "height": 86
        },
        "id": "8dirnd5Xk1vT",
        "outputId": "4bd042e0-72ec-40cf-834c-6ea23684d78b"
      },
      "execution_count": 71,
      "outputs": [
        {
          "output_type": "display_data",
          "data": {
            "text/plain": [
              "<IPython.core.display.HTML object>"
            ],
            "text/html": [
              "\n",
              "  <style>\n",
              "    pre {\n",
              "        white-space: pre-wrap;\n",
              "    }\n",
              "  </style>\n",
              "  "
            ]
          },
          "metadata": {}
        },
        {
          "output_type": "display_data",
          "data": {
            "text/plain": [
              "<IPython.core.display.HTML object>"
            ],
            "text/html": [
              "\n",
              "  <style>\n",
              "    pre {\n",
              "        white-space: pre-wrap;\n",
              "    }\n",
              "  </style>\n",
              "  "
            ]
          },
          "metadata": {}
        },
        {
          "output_type": "stream",
          "name": "stdout",
          "text": [
            "But of course, with technology, the forms of books have changed, and books have become more accessible to everyone. Regardless of all other supplements of books, the contribution and role of books in our life are indispensable. In the education system, books are mostly followed to date for knowledge providing and gain. Books on several subjects enhance several aspects of education and learning. The endless source of knowledge, information, entertainment, and training are books. Writers can express their thoughts, views, and observations about any topic through their writings, which are published in books. Before the age of the internet, book's were the most dominating source of knowledge.\n"
          ]
        }
      ]
    },
    {
      "cell_type": "code",
      "source": [
        "note = {}\n",
        "\n",
        "i=0\n",
        "for key in sentence_scores:\n",
        "  note[notes[i]] = sentence_scores[key]\n",
        "  i+=1\n",
        "\n",
        "notes_sentences = heapq.nlargest(3, note, key=note.get)\n",
        "notes_sentences"
      ],
      "metadata": {
        "colab": {
          "base_uri": "https://localhost:8080/",
          "height": 69
        },
        "id": "I66hJ2VszQV2",
        "outputId": "c0c380a2-3750-455e-e888-601cd3b9dded"
      },
      "execution_count": 148,
      "outputs": [
        {
          "output_type": "display_data",
          "data": {
            "text/plain": [
              "<IPython.core.display.HTML object>"
            ],
            "text/html": [
              "\n",
              "  <style>\n",
              "    pre {\n",
              "        white-space: pre-wrap;\n",
              "    }\n",
              "  </style>\n",
              "  "
            ]
          },
          "metadata": {}
        },
        {
          "output_type": "display_data",
          "data": {
            "text/plain": [
              "<IPython.core.display.HTML object>"
            ],
            "text/html": [
              "\n",
              "  <style>\n",
              "    pre {\n",
              "        white-space: pre-wrap;\n",
              "    }\n",
              "  </style>\n",
              "  "
            ]
          },
          "metadata": {}
        },
        {
          "output_type": "execute_result",
          "data": {
            "text/plain": [
              "['But of course  with technology  the forms of books have changed  and books have become more accessible to everyone  ',\n",
              " 'Regardless of all other supplements of books  the contribution and role of books in our life are indispensable  ',\n",
              " 'In the education system  books are mostly followed to date for knowledge providing and gain  ']"
            ]
          },
          "metadata": {},
          "execution_count": 148
        }
      ]
    },
    {
      "cell_type": "markdown",
      "source": [
        "reference from - https://stackabuse.com/text-summarization-with-nltk-in-python/"
      ],
      "metadata": {
        "id": "XURYDyc_lL7Y"
      }
    },
    {
      "cell_type": "code",
      "source": [
        "from nltk.tokenize import word_tokenize, sent_tokenize\n",
        "import heapq\n",
        "import nltk\n",
        "import re\n",
        "from nltk.corpus import stopwords\n",
        "# n - number of lines for summary to be generated , para - paragraph to be summarized \n",
        "\n",
        "def generateSummary(n, para):\n",
        "  sent_list = nltk.sent_tokenize(para)\n",
        "  if n>len(sent_list)/2:\n",
        "    return \"Summary cannot be greater in length than half of provided data!\"\n",
        "  post_punctuation = [] \n",
        "  punctuation = re.compile(r'[-.?!,:;()|0-9]')\n",
        "  for sentences in sent_list:\n",
        "    sent = punctuation.sub(\" \", sentences)\n",
        "    sent = re.sub(r'\\[[0-9]*\\]', ' ', sentences)\n",
        "    sent = re.sub(r'\\s+', ' ', sentences)\n",
        "    if len(sent)>0:\n",
        "      post_punctuation.append(sent)\n",
        "  \n",
        "  formatted_str = ' '.join([str(pp) for pp in post_punctuation])\n",
        "  stopwords = nltk.corpus.stopwords.words('english')\n",
        "\n",
        "  word_frequencies = {}\n",
        "  for word in nltk.word_tokenize(formatted_str):\n",
        "      if word not in stopwords:\n",
        "          if word not in word_frequencies.keys():\n",
        "              word_frequencies[word] = 1\n",
        "          else:\n",
        "              word_frequencies[word] += 1\n",
        "\n",
        "  maximum_frequncy = max(word_frequencies.values())\n",
        "\n",
        "  for word in word_frequencies.keys():\n",
        "      word_frequencies[word] = (word_frequencies[word]/maximum_frequncy)  \n",
        "\n",
        "  sentence_scores = {}\n",
        "  for sent in sent_list:\n",
        "      for word in nltk.word_tokenize(sent.lower()):\n",
        "          if word in word_frequencies.keys():\n",
        "              if len(sent.split(' ')) < 30:\n",
        "                  if sent not in sentence_scores.keys():\n",
        "                      sentence_scores[sent] = word_frequencies[word]\n",
        "                  else:\n",
        "                      sentence_scores[sent] += word_frequencies[word]  \n",
        "\n",
        "  summary_sentences = heapq.nlargest(n, sentence_scores, key=sentence_scores.get)\n",
        "\n",
        "  summary = ' '.join(summary_sentences)\n",
        "  return summary"
      ],
      "metadata": {
        "colab": {
          "base_uri": "https://localhost:8080/",
          "height": 17
        },
        "id": "auwRHuO5mvnB",
        "outputId": "77904c92-b1ad-424c-ccd8-f941f3ed49c4"
      },
      "execution_count": 37,
      "outputs": [
        {
          "output_type": "display_data",
          "data": {
            "text/plain": [
              "<IPython.core.display.HTML object>"
            ],
            "text/html": [
              "\n",
              "  <style>\n",
              "    pre {\n",
              "        white-space: pre-wrap;\n",
              "    }\n",
              "  </style>\n",
              "  "
            ]
          },
          "metadata": {}
        },
        {
          "output_type": "display_data",
          "data": {
            "text/plain": [
              "<IPython.core.display.HTML object>"
            ],
            "text/html": [
              "\n",
              "  <style>\n",
              "    pre {\n",
              "        white-space: pre-wrap;\n",
              "    }\n",
              "  </style>\n",
              "  "
            ]
          },
          "metadata": {}
        }
      ]
    },
    {
      "cell_type": "code",
      "source": [
        "para1 = \"France (French: [fʁɑ̃s] Listen), officially the French Republic (French: République française[12]), is a transcontinental country spanning Western Europe and overseas regions and territories in the Americas and the Atlantic, Pacific and Indian Oceans.[XII] Its metropolitan area extends from the Rhine to the Atlantic Ocean and from the Mediterranean Sea to the English Channel and the North Sea; overseas territories include French Guiana in South America, Saint Pierre and Miquelon in the North Atlantic, the French West Indies, and many islands in Oceania and the Indian Ocean. Due to its several coastal territories, France has the largest exclusive economic zone in the world. France borders Belgium, Luxembourg, Germany, Switzerland, Monaco, Italy, Andorra and Spain in Europe, as well as the Netherlands, Suriname and Brazil in the Americas. Its eighteen integral regions (five of which are overseas) span a combined area of 643,801 km2 (248,573 sq mi) and over 67 million people (as of May 2021).[3] France is a unitary semi-presidential republic with its capital in Paris, the country's largest city and main cultural and commercial centre; other major urban areas include Marseille, Lyon, Toulouse, Lille, Bordeaux, and Nice. Inhabited since the Palaeolithic era, the territory of Metropolitan France was settled by Celtic tribes known as Gauls during the Iron Age. Rome annexed the area in 51 BC, leading to a distinct Gallo-Roman culture that laid the foundation of the French language. The Germanic Franks formed the Kingdom of Francia, which became the heartland of the Carolingian Empire. The Treaty of Verdun of 843 partitioned the empire, with West Francia becoming the Kingdom of France in 987. In the High Middle Ages, France was a powerful but highly decentralised feudal kingdom. Philip II successfully strengthened royal power and defeated his rivals to double the size of the crown lands; by the end of his reign, France had emerged as the most powerful state in Europe. From the mid-14th to the mid-15th century, France was plunged into a series of dynastic conflicts involving England, collectively known as the Hundred Years' War, and a distinct French identity emerged as a result. The French Renaissance saw art and culture flourish, conflict with the House of Habsburg, and the establishment of a global colonial empire, which by the 20th century would become the second-largest in the world.[13] The second half of the 16th century was dominated by religious civil wars between Catholics and Huguenots that severely weakened the country. France again emerged as Europe's dominant power in the 17th century under Louis XIV following the Thirty Years' War.[14] Inadequate economic policies, inequitable taxes and frequent wars (notably a defeat in the Seven Years' War and costly involvement in the American War of Independence), left the kingdom in a precarious economic situation by the end of the 18th century. This precipitated the French Revolution of 1789, which overthrew the Ancien Régime and produced the Declaration of the Rights of Man, which expresses the nation's ideals to this day.\""
      ],
      "metadata": {
        "colab": {
          "base_uri": "https://localhost:8080/",
          "height": 17
        },
        "id": "AnFooJbind0D",
        "outputId": "f13ba300-7eb2-45cf-e345-d8edde650689"
      },
      "execution_count": 38,
      "outputs": [
        {
          "output_type": "display_data",
          "data": {
            "text/plain": [
              "<IPython.core.display.HTML object>"
            ],
            "text/html": [
              "\n",
              "  <style>\n",
              "    pre {\n",
              "        white-space: pre-wrap;\n",
              "    }\n",
              "  </style>\n",
              "  "
            ]
          },
          "metadata": {}
        },
        {
          "output_type": "display_data",
          "data": {
            "text/plain": [
              "<IPython.core.display.HTML object>"
            ],
            "text/html": [
              "\n",
              "  <style>\n",
              "    pre {\n",
              "        white-space: pre-wrap;\n",
              "    }\n",
              "  </style>\n",
              "  "
            ]
          },
          "metadata": {}
        }
      ]
    },
    {
      "cell_type": "code",
      "source": [
        "summ = generateSummary(9, para1)\n",
        "summ"
      ],
      "metadata": {
        "colab": {
          "base_uri": "https://localhost:8080/",
          "height": 140
        },
        "id": "3MFttqpjoA1M",
        "outputId": "38743046-e059-4ac4-97a6-771f6d433712"
      },
      "execution_count": 41,
      "outputs": [
        {
          "output_type": "display_data",
          "data": {
            "text/plain": [
              "<IPython.core.display.HTML object>"
            ],
            "text/html": [
              "\n",
              "  <style>\n",
              "    pre {\n",
              "        white-space: pre-wrap;\n",
              "    }\n",
              "  </style>\n",
              "  "
            ]
          },
          "metadata": {}
        },
        {
          "output_type": "display_data",
          "data": {
            "text/plain": [
              "<IPython.core.display.HTML object>"
            ],
            "text/html": [
              "\n",
              "  <style>\n",
              "    pre {\n",
              "        white-space: pre-wrap;\n",
              "    }\n",
              "  </style>\n",
              "  "
            ]
          },
          "metadata": {}
        },
        {
          "output_type": "execute_result",
          "data": {
            "text/plain": [
              "\"France borders Belgium, Luxembourg, Germany, Switzerland, Monaco, Italy, Andorra and Spain in Europe, as well as the Netherlands, Suriname and Brazil in the Americas. This precipitated the French Revolution of 1789, which overthrew the Ancien Régime and produced the Declaration of the Rights of Man, which expresses the nation's ideals to this day. Its eighteen integral regions (five of which are overseas) span a combined area of 643,801 km2 (248,573 sq mi) and over 67 million people (as of May 2021). Due to its several coastal territories, France has the largest exclusive economic zone in the world. Rome annexed the area in 51 BC, leading to a distinct Gallo-Roman culture that laid the foundation of the French language. The Treaty of Verdun of 843 partitioned the empire, with West Francia becoming the Kingdom of France in 987. Inhabited since the Palaeolithic era, the territory of Metropolitan France was settled by Celtic tribes known as Gauls during the Iron Age. The Germanic Franks formed the Kingdom of Francia, which became the heartland of the Carolingian Empire. In the High Middle Ages, France was a powerful but highly decentralised feudal kingdom.\""
            ],
            "application/vnd.google.colaboratory.intrinsic+json": {
              "type": "string"
            }
          },
          "metadata": {},
          "execution_count": 41
        }
      ]
    },
    {
      "cell_type": "code",
      "source": [
        "ntags = nltk.pos_tag(nltk.word_tokenize(summ))\n",
        "print(ntags)"
      ],
      "metadata": {
        "colab": {
          "base_uri": "https://localhost:8080/",
          "height": 382
        },
        "id": "H9xjJMKuMK1W",
        "outputId": "863ee0cb-e0c7-4ee5-c244-2cf60aaa7971"
      },
      "execution_count": 59,
      "outputs": [
        {
          "output_type": "display_data",
          "data": {
            "text/plain": [
              "<IPython.core.display.HTML object>"
            ],
            "text/html": [
              "\n",
              "  <style>\n",
              "    pre {\n",
              "        white-space: pre-wrap;\n",
              "    }\n",
              "  </style>\n",
              "  "
            ]
          },
          "metadata": {}
        },
        {
          "output_type": "display_data",
          "data": {
            "text/plain": [
              "<IPython.core.display.HTML object>"
            ],
            "text/html": [
              "\n",
              "  <style>\n",
              "    pre {\n",
              "        white-space: pre-wrap;\n",
              "    }\n",
              "  </style>\n",
              "  "
            ]
          },
          "metadata": {}
        },
        {
          "output_type": "stream",
          "name": "stdout",
          "text": [
            "[('France', 'NNP'), ('borders', 'NNS'), ('Belgium', 'NNP'), (',', ','), ('Luxembourg', 'NNP'), (',', ','), ('Germany', 'NNP'), (',', ','), ('Switzerland', 'NNP'), (',', ','), ('Monaco', 'NNP'), (',', ','), ('Italy', 'NNP'), (',', ','), ('Andorra', 'NNP'), ('and', 'CC'), ('Spain', 'NNP'), ('in', 'IN'), ('Europe', 'NNP'), (',', ','), ('as', 'RB'), ('well', 'RB'), ('as', 'IN'), ('the', 'DT'), ('Netherlands', 'NNP'), (',', ','), ('Suriname', 'NNP'), ('and', 'CC'), ('Brazil', 'NNP'), ('in', 'IN'), ('the', 'DT'), ('Americas', 'NNPS'), ('.', '.'), ('This', 'DT'), ('precipitated', 'VBD'), ('the', 'DT'), ('French', 'JJ'), ('Revolution', 'NNP'), ('of', 'IN'), ('1789', 'CD'), (',', ','), ('which', 'WDT'), ('overthrew', 'VBD'), ('the', 'DT'), ('Ancien', 'NNP'), ('Régime', 'NNP'), ('and', 'CC'), ('produced', 'VBD'), ('the', 'DT'), ('Declaration', 'NNP'), ('of', 'IN'), ('the', 'DT'), ('Rights', 'NNPS'), ('of', 'IN'), ('Man', 'NNP'), (',', ','), ('which', 'WDT'), ('expresses', 'VBZ'), ('the', 'DT'), ('nation', 'NN'), (\"'s\", 'POS'), ('ideals', 'NNS'), ('to', 'TO'), ('this', 'DT'), ('day', 'NN'), ('.', '.'), ('Its', 'PRP$'), ('eighteen', 'JJ'), ('integral', 'JJ'), ('regions', 'NNS'), ('(', '('), ('five', 'CD'), ('of', 'IN'), ('which', 'WDT'), ('are', 'VBP'), ('overseas', 'JJ'), (')', ')'), ('span', 'VBP'), ('a', 'DT'), ('combined', 'JJ'), ('area', 'NN'), ('of', 'IN'), ('643,801', 'CD'), ('km2', 'NNS'), ('(', '('), ('248,573', 'CD'), ('sq', 'NN'), ('mi', 'NN'), (')', ')'), ('and', 'CC'), ('over', '$'), ('67', 'CD'), ('million', 'CD'), ('people', 'NNS'), ('(', '('), ('as', 'IN'), ('of', 'IN'), ('May', 'NNP'), ('2021', 'CD'), (')', ')'), ('.', '.'), ('Due', 'JJ'), ('to', 'TO'), ('its', 'PRP$'), ('several', 'JJ'), ('coastal', 'JJ'), ('territories', 'NNS'), (',', ','), ('France', 'NNP'), ('has', 'VBZ'), ('the', 'DT'), ('largest', 'JJS'), ('exclusive', 'JJ'), ('economic', 'JJ'), ('zone', 'NN'), ('in', 'IN'), ('the', 'DT'), ('world', 'NN'), ('.', '.'), ('Rome', 'NNP'), ('annexed', 'VBD'), ('the', 'DT'), ('area', 'NN'), ('in', 'IN'), ('51', 'CD'), ('BC', 'NNP'), (',', ','), ('leading', 'VBG'), ('to', 'TO'), ('a', 'DT'), ('distinct', 'JJ'), ('Gallo-Roman', 'JJ'), ('culture', 'NN'), ('that', 'WDT'), ('laid', 'VBD'), ('the', 'DT'), ('foundation', 'NN'), ('of', 'IN'), ('the', 'DT'), ('French', 'JJ'), ('language', 'NN'), ('.', '.'), ('The', 'DT'), ('Treaty', 'NNP'), ('of', 'IN'), ('Verdun', 'NNP'), ('of', 'IN'), ('843', 'CD'), ('partitioned', 'VBD'), ('the', 'DT'), ('empire', 'NN'), (',', ','), ('with', 'IN'), ('West', 'NNP'), ('Francia', 'NNP'), ('becoming', 'VBG'), ('the', 'DT'), ('Kingdom', 'NNP'), ('of', 'IN'), ('France', 'NNP'), ('in', 'IN'), ('987', 'CD'), ('.', '.'), ('Inhabited', 'VBN'), ('since', 'IN'), ('the', 'DT'), ('Palaeolithic', 'NNP'), ('era', 'NN'), (',', ','), ('the', 'DT'), ('territory', 'NN'), ('of', 'IN'), ('Metropolitan', 'NNP'), ('France', 'NNP'), ('was', 'VBD'), ('settled', 'VBN'), ('by', 'IN'), ('Celtic', 'NNP'), ('tribes', 'NNS'), ('known', 'VBN'), ('as', 'IN'), ('Gauls', 'NNP'), ('during', 'IN'), ('the', 'DT'), ('Iron', 'NNP'), ('Age', 'NNP'), ('.', '.'), ('The', 'DT'), ('Germanic', 'NNP'), ('Franks', 'NNP'), ('formed', 'VBD'), ('the', 'DT'), ('Kingdom', 'NNP'), ('of', 'IN'), ('Francia', 'NNP'), (',', ','), ('which', 'WDT'), ('became', 'VBD'), ('the', 'DT'), ('heartland', 'NN'), ('of', 'IN'), ('the', 'DT'), ('Carolingian', 'NNP'), ('Empire', 'NNP'), ('.', '.'), ('In', 'IN'), ('the', 'DT'), ('High', 'NNP'), ('Middle', 'NNP'), ('Ages', 'NNP'), (',', ','), ('France', 'NNP'), ('was', 'VBD'), ('a', 'DT'), ('powerful', 'JJ'), ('but', 'CC'), ('highly', 'RB'), ('decentralised', 'JJ'), ('feudal', 'NN'), ('kingdom', 'NN'), ('.', '.')]\n"
          ]
        }
      ]
    },
    {
      "cell_type": "code",
      "source": [
        "ntags = nltk.pos_tag(nltk.word_tokenize(notes_sentences[0]))\n",
        "ntags"
      ],
      "metadata": {
        "colab": {
          "base_uri": "https://localhost:8080/",
          "height": 398
        },
        "id": "-XBCPYYOG5Zr",
        "outputId": "1d63bf5d-b289-4217-d76f-03b38af32f32"
      },
      "execution_count": 140,
      "outputs": [
        {
          "output_type": "display_data",
          "data": {
            "text/plain": [
              "<IPython.core.display.HTML object>"
            ],
            "text/html": [
              "\n",
              "  <style>\n",
              "    pre {\n",
              "        white-space: pre-wrap;\n",
              "    }\n",
              "  </style>\n",
              "  "
            ]
          },
          "metadata": {}
        },
        {
          "output_type": "display_data",
          "data": {
            "text/plain": [
              "<IPython.core.display.HTML object>"
            ],
            "text/html": [
              "\n",
              "  <style>\n",
              "    pre {\n",
              "        white-space: pre-wrap;\n",
              "    }\n",
              "  </style>\n",
              "  "
            ]
          },
          "metadata": {}
        },
        {
          "output_type": "execute_result",
          "data": {
            "text/plain": [
              "[('But', 'CC'),\n",
              " ('of', 'IN'),\n",
              " ('course', 'NN'),\n",
              " ('with', 'IN'),\n",
              " ('technology', 'NN'),\n",
              " (',', ','),\n",
              " (',', ','),\n",
              " ('the', 'DT'),\n",
              " ('forms', 'NNS'),\n",
              " ('of', 'IN'),\n",
              " ('books', 'NNS'),\n",
              " ('have', 'VBP'),\n",
              " ('changed', 'VBN'),\n",
              " ('and', 'CC'),\n",
              " ('books', 'NNS'),\n",
              " ('have', 'VBP'),\n",
              " ('become', 'VBN'),\n",
              " ('more', 'RBR'),\n",
              " ('accessible', 'JJ'),\n",
              " ('to', 'TO'),\n",
              " ('everyone', 'NN'),\n",
              " ('..', 'NN')]"
            ]
          },
          "metadata": {},
          "execution_count": 140
        }
      ]
    },
    {
      "cell_type": "code",
      "source": [
        "print(nltk.pos_tag(nltk.word_tokenize('nations')))"
      ],
      "metadata": {
        "colab": {
          "base_uri": "https://localhost:8080/",
          "height": 34
        },
        "id": "JbNJLa08KP0R",
        "outputId": "7151aeed-ca72-4d15-cfe4-1033e9bb4dc5"
      },
      "execution_count": 60,
      "outputs": [
        {
          "output_type": "display_data",
          "data": {
            "text/plain": [
              "<IPython.core.display.HTML object>"
            ],
            "text/html": [
              "\n",
              "  <style>\n",
              "    pre {\n",
              "        white-space: pre-wrap;\n",
              "    }\n",
              "  </style>\n",
              "  "
            ]
          },
          "metadata": {}
        },
        {
          "output_type": "display_data",
          "data": {
            "text/plain": [
              "<IPython.core.display.HTML object>"
            ],
            "text/html": [
              "\n",
              "  <style>\n",
              "    pre {\n",
              "        white-space: pre-wrap;\n",
              "    }\n",
              "  </style>\n",
              "  "
            ]
          },
          "metadata": {}
        },
        {
          "output_type": "stream",
          "name": "stdout",
          "text": [
            "[('nations', 'NNS')]\n"
          ]
        }
      ]
    },
    {
      "cell_type": "code",
      "source": [
        "def punctuate(para):\n",
        "  after = ['NN', 'NNP', 'NNPS', 'NNS']\n",
        "  before = ['WDT']\n",
        "  avoids = ['IN', 'CC', 'VBP']\n",
        "  para = re.sub(' +', ' ', para)\n",
        "  tagDef = nltk.pos_tag(nltk.word_tokenize(para))\n",
        "  n = len(tagDef)\n",
        "  for i in range(0,n-1):\n",
        "    words = para.split()\n",
        "    if tagDef[i][1] == 'NNS' and tagDef[i+1][1] == 'NNS':  \n",
        "      temp = len(words[i])-1\n",
        "      newWord = words[i][:temp-1]+\"'s\"\n",
        "      words.pop(i)\n",
        "      words.insert(i, newWord)\n",
        "    elif tagDef[i][1] == 'NN' and tagDef[i+1][1] == 'NN':\n",
        "      pass\n",
        "    elif tagDef[i][1] in after and tagDef[i+1][1] not in avoids:\n",
        "      words.insert(i+1, ',')\n",
        "    elif tagDef[i][1] in before:\n",
        "      words.insert(i-1, ',')\n",
        "    elif tagDef[i][1] == ',' and tagDef[i+1][1] == ',':\n",
        "      words.pop(i)\n",
        "      words.pop(i+1)\n",
        "    para = ' '.join(str(x) for x in words)\n",
        "    tagDef = nltk.pos_tag(nltk.word_tokenize(para))\n",
        "    n = len(tagDef)\n",
        "\n",
        "  return para"
      ],
      "metadata": {
        "colab": {
          "base_uri": "https://localhost:8080/",
          "height": 17
        },
        "id": "TbDT1crXLhtQ",
        "outputId": "805c0884-5fb7-40f1-d0ed-ad29ddc59ca3"
      },
      "execution_count": 174,
      "outputs": [
        {
          "output_type": "display_data",
          "data": {
            "text/plain": [
              "<IPython.core.display.HTML object>"
            ],
            "text/html": [
              "\n",
              "  <style>\n",
              "    pre {\n",
              "        white-space: pre-wrap;\n",
              "    }\n",
              "  </style>\n",
              "  "
            ]
          },
          "metadata": {}
        },
        {
          "output_type": "display_data",
          "data": {
            "text/plain": [
              "<IPython.core.display.HTML object>"
            ],
            "text/html": [
              "\n",
              "  <style>\n",
              "    pre {\n",
              "        white-space: pre-wrap;\n",
              "    }\n",
              "  </style>\n",
              "  "
            ]
          },
          "metadata": {}
        }
      ]
    },
    {
      "cell_type": "code",
      "source": [
        ""
      ],
      "metadata": {
        "id": "7DrbsBhVZ2QO"
      },
      "execution_count": null,
      "outputs": []
    },
    {
      "cell_type": "code",
      "source": [
        "punctuated_notes = []\n",
        "for i in range(len(notes_sentences)):\n",
        "   punctuated_notes.append(punctuate(notes_sentences[i]))\n",
        "\n",
        "punctuated_notes"
      ],
      "metadata": {
        "colab": {
          "base_uri": "https://localhost:8080/",
          "height": 69
        },
        "id": "yJ5dBn76QI0X",
        "outputId": "930f948a-97ad-42ec-94e7-a57e83b4eb4f"
      },
      "execution_count": 159,
      "outputs": [
        {
          "output_type": "display_data",
          "data": {
            "text/plain": [
              "<IPython.core.display.HTML object>"
            ],
            "text/html": [
              "\n",
              "  <style>\n",
              "    pre {\n",
              "        white-space: pre-wrap;\n",
              "    }\n",
              "  </style>\n",
              "  "
            ]
          },
          "metadata": {}
        },
        {
          "output_type": "display_data",
          "data": {
            "text/plain": [
              "<IPython.core.display.HTML object>"
            ],
            "text/html": [
              "\n",
              "  <style>\n",
              "    pre {\n",
              "        white-space: pre-wrap;\n",
              "    }\n",
              "  </style>\n",
              "  "
            ]
          },
          "metadata": {}
        },
        {
          "output_type": "execute_result",
          "data": {
            "text/plain": [
              "['But of course with technology , the forms of books have changed and books have become more accessible to everyone.',\n",
              " 'Regardless of all other supplements of books , the contribution and role of books in our life are indispensable.',\n",
              " 'In the education system , books are mostly followed to date for knowledge providing and gain.']"
            ]
          },
          "metadata": {},
          "execution_count": 159
        }
      ]
    },
    {
      "cell_type": "code",
      "source": [
        "def generateNotes(para, n=3):\n",
        "  sent_list = nltk.sent_tokenize(para)\n",
        "\n",
        "  if n>len(sent_list)/2:\n",
        "      return \"Summary cannot be greater in length than half of provided data!\"\n",
        "\n",
        "  post_punctuation = [] \n",
        "  punctuation = re.compile(r'[-.?!,:;()|0-9]')\n",
        "  for sentences in sent_list:\n",
        "    sent = punctuation.sub(\" \", sentences)\n",
        "    sent = re.sub(r'\\[[0-9]*\\]', ' ', sentences)\n",
        "    sent = re.sub(r'\\s+', ' ', sentences)\n",
        "    sent = re.sub(\"[\\(\\[].*?[\\)\\]]\", \"\", sentences)\n",
        "    if len(sent)>0:\n",
        "      post_punctuation.append(sent)\n",
        "\n",
        "  formatted_str = ' '.join([str(pp) for pp in post_punctuation])\n",
        "  stopwords = nltk.corpus.stopwords.words('english')\n",
        "\n",
        "  word_frequencies = {}\n",
        "  for word in nltk.word_tokenize(formatted_str):\n",
        "      if word not in stopwords:\n",
        "          if word not in word_frequencies.keys():\n",
        "              word_frequencies[word] = 1\n",
        "          else:\n",
        "              word_frequencies[word] += 1\n",
        "\n",
        "  maximum_frequncy = max(word_frequencies.values())\n",
        "\n",
        "  for word in word_frequencies.keys():\n",
        "      word_frequencies[word] = (word_frequencies[word]/maximum_frequncy)  \n",
        "\n",
        "  sentence_scores = {}\n",
        "  for sent in sent_list:\n",
        "      for word in nltk.word_tokenize(sent.lower()):\n",
        "          if word in word_frequencies.keys():\n",
        "              if len(sent.split(' ')) < 30:\n",
        "                  if sent not in sentence_scores.keys():\n",
        "                      sentence_scores[sent] = word_frequencies[word]\n",
        "                  else:\n",
        "                      sentence_scores[sent] += word_frequencies[word]  \n",
        "\n",
        "  notes = []\n",
        "  for sent in post_punctuation:\n",
        "    newSent = \"\"\n",
        "    if sent not in stopwords:\n",
        "        newSent+=sent+\" \"\n",
        "    notes.append(newSent)\n",
        "\n",
        "    note = {}\n",
        "\n",
        "  i=0\n",
        "  for key in sentence_scores:\n",
        "    note[notes[i]] = sentence_scores[key]\n",
        "    i+=1\n",
        "\n",
        "  notes_sentences = heapq.nlargest(n, note, key=note.get)\n",
        "  \n",
        "  # punctuated_notes = []\n",
        "  # for i in range(len(notes_sentences)):\n",
        "  #   punctuated_notes.append(punctuate(notes_sentences[i]))\n",
        "\n",
        "  return notes_sentences"
      ],
      "metadata": {
        "colab": {
          "base_uri": "https://localhost:8080/",
          "height": 17
        },
        "id": "MlPkeEeCQMlz",
        "outputId": "6ffa48d6-9fc7-463e-90db-dc6351059361"
      },
      "execution_count": 191,
      "outputs": [
        {
          "output_type": "display_data",
          "data": {
            "text/plain": [
              "<IPython.core.display.HTML object>"
            ],
            "text/html": [
              "\n",
              "  <style>\n",
              "    pre {\n",
              "        white-space: pre-wrap;\n",
              "    }\n",
              "  </style>\n",
              "  "
            ]
          },
          "metadata": {}
        },
        {
          "output_type": "display_data",
          "data": {
            "text/plain": [
              "<IPython.core.display.HTML object>"
            ],
            "text/html": [
              "\n",
              "  <style>\n",
              "    pre {\n",
              "        white-space: pre-wrap;\n",
              "    }\n",
              "  </style>\n",
              "  "
            ]
          },
          "metadata": {}
        }
      ]
    },
    {
      "cell_type": "code",
      "source": [
        "notes = generateNotes(para1, 5)\n",
        "for i in range(len(notes)):\n",
        "  print(f'{i+1}: {notes[i]}\\n')"
      ],
      "metadata": {
        "colab": {
          "base_uri": "https://localhost:8080/",
          "height": 226
        },
        "id": "vVv8MhmHZROw",
        "outputId": "38cab63a-4808-4d45-fb9e-79b17e957478"
      },
      "execution_count": 193,
      "outputs": [
        {
          "output_type": "display_data",
          "data": {
            "text/plain": [
              "<IPython.core.display.HTML object>"
            ],
            "text/html": [
              "\n",
              "  <style>\n",
              "    pre {\n",
              "        white-space: pre-wrap;\n",
              "    }\n",
              "  </style>\n",
              "  "
            ]
          },
          "metadata": {}
        },
        {
          "output_type": "display_data",
          "data": {
            "text/plain": [
              "<IPython.core.display.HTML object>"
            ],
            "text/html": [
              "\n",
              "  <style>\n",
              "    pre {\n",
              "        white-space: pre-wrap;\n",
              "    }\n",
              "  </style>\n",
              "  "
            ]
          },
          "metadata": {}
        },
        {
          "output_type": "stream",
          "name": "stdout",
          "text": [
            "1:  Its metropolitan area extends from the Rhine to the Atlantic Ocean and from the Mediterranean Sea to the English Channel and the North Sea; overseas territories include French Guiana in South America, Saint Pierre and Miquelon in the North Atlantic, the French West Indies, and many islands in Oceania and the Indian Ocean. \n",
            "\n",
            "2: In the High Middle Ages, France was a powerful but highly decentralised feudal kingdom. \n",
            "\n",
            "3: France  Listen), officially the French Republic ), is a transcontinental country spanning Western Europe and overseas regions and territories in the Americas and the Atlantic, Pacific and Indian Oceans. \n",
            "\n",
            "4: Its eighteen integral regions  span a combined area of 643,801 km2  and over 67 million people . \n",
            "\n",
            "5: Inhabited since the Palaeolithic era, the territory of Metropolitan France was settled by Celtic tribes known as Gauls during the Iron Age. \n",
            "\n"
          ]
        }
      ]
    },
    {
      "cell_type": "code",
      "source": [
        ""
      ],
      "metadata": {
        "id": "VbkhQRCZZVEg"
      },
      "execution_count": null,
      "outputs": []
    }
  ]
}